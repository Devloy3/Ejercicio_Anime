{
 "cells": [
  {
   "cell_type": "code",
   "execution_count": 25,
   "id": "f2e8ba1f",
   "metadata": {},
   "outputs": [],
   "source": [
    "import pandas as pd\n",
    "\n",
    "ratings1 = pd.read_csv('rating.csv')  # no necesitas sep='\\t'\n",
    "anime1 = pd.read_csv('anime.csv')"
   ]
  },
  {
   "cell_type": "code",
   "execution_count": 26,
   "id": "edd8df79",
   "metadata": {},
   "outputs": [],
   "source": [
    "ratings = ratings1[['user_id', 'anime_id', 'rating']]\n",
    "anime = anime1[['anime_id', 'name']]"
   ]
  },
  {
   "cell_type": "markdown",
   "id": "809bf1b5",
   "metadata": {},
   "source": [
    "### Observem el dataset"
   ]
  },
  {
   "cell_type": "code",
   "execution_count": 27,
   "id": "28b1bac7",
   "metadata": {},
   "outputs": [
    {
     "data": {
      "text/plain": [
       "(7813737, 3)"
      ]
     },
     "execution_count": 27,
     "metadata": {},
     "output_type": "execute_result"
    }
   ],
   "source": [
    "ratings.shape"
   ]
  },
  {
   "cell_type": "code",
   "execution_count": 28,
   "id": "95e3a861",
   "metadata": {},
   "outputs": [
    {
     "data": {
      "text/plain": [
       "(12294, 2)"
      ]
     },
     "execution_count": 28,
     "metadata": {},
     "output_type": "execute_result"
    }
   ],
   "source": [
    "anime.shape"
   ]
  },
  {
   "cell_type": "code",
   "execution_count": 32,
   "id": "8ac23c24",
   "metadata": {},
   "outputs": [
    {
     "name": "stdout",
     "output_type": "stream",
     "text": [
      "<class 'pandas.core.frame.DataFrame'>\n",
      "RangeIndex: 7813737 entries, 0 to 7813736\n",
      "Data columns (total 3 columns):\n",
      " #   Column    Dtype\n",
      "---  ------    -----\n",
      " 0   user_id   int64\n",
      " 1   anime_id  int64\n",
      " 2   rating    int64\n",
      "dtypes: int64(3)\n",
      "memory usage: 178.8 MB\n"
     ]
    }
   ],
   "source": [
    "ratings.info()"
   ]
  },
  {
   "cell_type": "code",
   "execution_count": 33,
   "id": "c0fac098",
   "metadata": {},
   "outputs": [
    {
     "name": "stdout",
     "output_type": "stream",
     "text": [
      "<class 'pandas.core.frame.DataFrame'>\n",
      "RangeIndex: 12294 entries, 0 to 12293\n",
      "Data columns (total 2 columns):\n",
      " #   Column    Non-Null Count  Dtype \n",
      "---  ------    --------------  ----- \n",
      " 0   anime_id  12294 non-null  int64 \n",
      " 1   name      12294 non-null  object\n",
      "dtypes: int64(1), object(1)\n",
      "memory usage: 192.2+ KB\n"
     ]
    }
   ],
   "source": [
    "anime.info()\n"
   ]
  },
  {
   "cell_type": "code",
   "execution_count": 34,
   "id": "35f4bac8",
   "metadata": {},
   "outputs": [
    {
     "data": {
      "text/plain": [
       "count    7.813737e+06\n",
       "mean     6.144030e+00\n",
       "std      3.727800e+00\n",
       "min     -1.000000e+00\n",
       "25%      6.000000e+00\n",
       "50%      7.000000e+00\n",
       "75%      9.000000e+00\n",
       "max      1.000000e+01\n",
       "Name: rating, dtype: float64"
      ]
     },
     "execution_count": 34,
     "metadata": {},
     "output_type": "execute_result"
    }
   ],
   "source": [
    "ratings['rating'].describe()"
   ]
  },
  {
   "cell_type": "code",
   "execution_count": 35,
   "id": "0dfa3edf",
   "metadata": {},
   "outputs": [
    {
     "data": {
      "text/plain": [
       "array([-1, 10,  8,  6,  9,  7,  3,  5,  4,  1,  2], dtype=int64)"
      ]
     },
     "execution_count": 35,
     "metadata": {},
     "output_type": "execute_result"
    }
   ],
   "source": [
    "ratings['rating'].unique()"
   ]
  },
  {
   "cell_type": "code",
   "execution_count": 37,
   "id": "40a545ad",
   "metadata": {},
   "outputs": [
    {
     "data": {
      "text/plain": [
       "user_id     False\n",
       "anime_id    False\n",
       "rating      False\n",
       "dtype: bool"
      ]
     },
     "execution_count": 37,
     "metadata": {},
     "output_type": "execute_result"
    }
   ],
   "source": [
    "ratings.isna().any()"
   ]
  },
  {
   "cell_type": "code",
   "execution_count": 36,
   "id": "856a75f1",
   "metadata": {},
   "outputs": [
    {
     "data": {
      "text/plain": [
       "rating\n",
       "-1     1476496\n",
       " 1       16649\n",
       " 2       23150\n",
       " 3       41453\n",
       " 4      104291\n",
       " 5      282806\n",
       " 6      637775\n",
       " 7     1375287\n",
       " 8     1646019\n",
       " 9     1254096\n",
       " 10     955715\n",
       "Name: count, dtype: int64"
      ]
     },
     "execution_count": 36,
     "metadata": {},
     "output_type": "execute_result"
    }
   ],
   "source": [
    "ratings['rating'].value_counts().sort_index()"
   ]
  },
  {
   "cell_type": "markdown",
   "id": "250a6da6",
   "metadata": {},
   "source": [
    "### Eliminem els -1"
   ]
  },
  {
   "cell_type": "code",
   "execution_count": 38,
   "id": "d6f53247",
   "metadata": {},
   "outputs": [],
   "source": [
    "ratings = ratings[ratings['rating'] != -1]"
   ]
  },
  {
   "cell_type": "code",
   "execution_count": 40,
   "id": "15482359",
   "metadata": {},
   "outputs": [
    {
     "data": {
      "text/plain": [
       "(6337241, 3)"
      ]
     },
     "execution_count": 40,
     "metadata": {},
     "output_type": "execute_result"
    }
   ],
   "source": [
    "ratings.shape"
   ]
  },
  {
   "cell_type": "markdown",
   "id": "e5dd0fd6",
   "metadata": {},
   "source": [
    "### Duplicats"
   ]
  },
  {
   "cell_type": "code",
   "execution_count": 45,
   "id": "fe7543f3",
   "metadata": {},
   "outputs": [
    {
     "name": "stdout",
     "output_type": "stream",
     "text": [
      "Número de duplicados: 7\n"
     ]
    }
   ],
   "source": [
    "duplicates = ratings.duplicated(subset=['user_id', 'anime_id']).sum()\n",
    "print(f\"Número de duplicados: {duplicates}\")"
   ]
  },
  {
   "cell_type": "code",
   "execution_count": 46,
   "id": "54a55fee",
   "metadata": {},
   "outputs": [
    {
     "name": "stdout",
     "output_type": "stream",
     "text": [
      "Número de duplicados: 0\n"
     ]
    }
   ],
   "source": [
    "duplicates2 = anime.duplicated(subset=['anime_id', 'name']).sum()\n",
    "print(f\"Número de duplicados: {duplicates2}\")"
   ]
  },
  {
   "cell_type": "code",
   "execution_count": 49,
   "id": "237fe971",
   "metadata": {},
   "outputs": [
    {
     "data": {
      "text/html": [
       "<div>\n",
       "<style scoped>\n",
       "    .dataframe tbody tr th:only-of-type {\n",
       "        vertical-align: middle;\n",
       "    }\n",
       "\n",
       "    .dataframe tbody tr th {\n",
       "        vertical-align: top;\n",
       "    }\n",
       "\n",
       "    .dataframe thead th {\n",
       "        text-align: right;\n",
       "    }\n",
       "</style>\n",
       "<table border=\"1\" class=\"dataframe\">\n",
       "  <thead>\n",
       "    <tr style=\"text-align: right;\">\n",
       "      <th></th>\n",
       "      <th>user_id</th>\n",
       "      <th>anime_id</th>\n",
       "      <th>rating</th>\n",
       "    </tr>\n",
       "  </thead>\n",
       "  <tbody>\n",
       "    <tr>\n",
       "      <th>4499243</th>\n",
       "      <td>42653</td>\n",
       "      <td>1575</td>\n",
       "      <td>8</td>\n",
       "    </tr>\n",
       "    <tr>\n",
       "      <th>4499286</th>\n",
       "      <td>42653</td>\n",
       "      <td>1575</td>\n",
       "      <td>6</td>\n",
       "    </tr>\n",
       "    <tr>\n",
       "      <th>4499244</th>\n",
       "      <td>42653</td>\n",
       "      <td>2001</td>\n",
       "      <td>8</td>\n",
       "    </tr>\n",
       "    <tr>\n",
       "      <th>4499288</th>\n",
       "      <td>42653</td>\n",
       "      <td>2001</td>\n",
       "      <td>10</td>\n",
       "    </tr>\n",
       "    <tr>\n",
       "      <th>4499255</th>\n",
       "      <td>42653</td>\n",
       "      <td>11757</td>\n",
       "      <td>8</td>\n",
       "    </tr>\n",
       "    <tr>\n",
       "      <th>4499307</th>\n",
       "      <td>42653</td>\n",
       "      <td>11757</td>\n",
       "      <td>5</td>\n",
       "    </tr>\n",
       "    <tr>\n",
       "      <th>4499258</th>\n",
       "      <td>42653</td>\n",
       "      <td>16498</td>\n",
       "      <td>8</td>\n",
       "    </tr>\n",
       "    <tr>\n",
       "      <th>4499316</th>\n",
       "      <td>42653</td>\n",
       "      <td>16498</td>\n",
       "      <td>8</td>\n",
       "    </tr>\n",
       "    <tr>\n",
       "      <th>4499261</th>\n",
       "      <td>42653</td>\n",
       "      <td>20507</td>\n",
       "      <td>7</td>\n",
       "    </tr>\n",
       "    <tr>\n",
       "      <th>4499320</th>\n",
       "      <td>42653</td>\n",
       "      <td>20507</td>\n",
       "      <td>9</td>\n",
       "    </tr>\n",
       "    <tr>\n",
       "      <th>4499263</th>\n",
       "      <td>42653</td>\n",
       "      <td>22319</td>\n",
       "      <td>8</td>\n",
       "    </tr>\n",
       "    <tr>\n",
       "      <th>4499325</th>\n",
       "      <td>42653</td>\n",
       "      <td>22319</td>\n",
       "      <td>6</td>\n",
       "    </tr>\n",
       "    <tr>\n",
       "      <th>4499266</th>\n",
       "      <td>42653</td>\n",
       "      <td>23283</td>\n",
       "      <td>8</td>\n",
       "    </tr>\n",
       "    <tr>\n",
       "      <th>4499326</th>\n",
       "      <td>42653</td>\n",
       "      <td>23283</td>\n",
       "      <td>9</td>\n",
       "    </tr>\n",
       "  </tbody>\n",
       "</table>\n",
       "</div>"
      ],
      "text/plain": [
       "         user_id  anime_id  rating\n",
       "4499243    42653      1575       8\n",
       "4499286    42653      1575       6\n",
       "4499244    42653      2001       8\n",
       "4499288    42653      2001      10\n",
       "4499255    42653     11757       8\n",
       "4499307    42653     11757       5\n",
       "4499258    42653     16498       8\n",
       "4499316    42653     16498       8\n",
       "4499261    42653     20507       7\n",
       "4499320    42653     20507       9\n",
       "4499263    42653     22319       8\n",
       "4499325    42653     22319       6\n",
       "4499266    42653     23283       8\n",
       "4499326    42653     23283       9"
      ]
     },
     "execution_count": 49,
     "metadata": {},
     "output_type": "execute_result"
    }
   ],
   "source": [
    "dup_mask = ratings.duplicated(subset=['user_id', 'anime_id'], keep=False)\n",
    "ratings[dup_mask].sort_values(['user_id', 'anime_id']).head(20)"
   ]
  },
  {
   "cell_type": "code",
   "execution_count": 51,
   "id": "1a530fae",
   "metadata": {},
   "outputs": [
    {
     "data": {
      "text/plain": [
       "rating\n",
       "2    6\n",
       "1    1\n",
       "Name: count, dtype: int64"
      ]
     },
     "execution_count": 51,
     "metadata": {},
     "output_type": "execute_result"
    }
   ],
   "source": [
    "dupes = ratings[dup_mask]\n",
    "dupes.groupby(['user_id', 'anime_id'])['rating'].nunique().value_counts()"
   ]
  },
  {
   "cell_type": "code",
   "execution_count": 19,
   "id": "61b6b262",
   "metadata": {},
   "outputs": [],
   "source": [
    "ratings = pd.merge(anime, ratings)"
   ]
  },
  {
   "cell_type": "code",
   "execution_count": 20,
   "id": "b355d3af",
   "metadata": {},
   "outputs": [
    {
     "data": {
      "text/html": [
       "<div>\n",
       "<style scoped>\n",
       "    .dataframe tbody tr th:only-of-type {\n",
       "        vertical-align: middle;\n",
       "    }\n",
       "\n",
       "    .dataframe tbody tr th {\n",
       "        vertical-align: top;\n",
       "    }\n",
       "\n",
       "    .dataframe thead th {\n",
       "        text-align: right;\n",
       "    }\n",
       "</style>\n",
       "<table border=\"1\" class=\"dataframe\">\n",
       "  <thead>\n",
       "    <tr style=\"text-align: right;\">\n",
       "      <th></th>\n",
       "      <th>anime_id</th>\n",
       "      <th>name</th>\n",
       "      <th>user_id</th>\n",
       "      <th>rating</th>\n",
       "    </tr>\n",
       "  </thead>\n",
       "  <tbody>\n",
       "    <tr>\n",
       "      <th>0</th>\n",
       "      <td>32281</td>\n",
       "      <td>Kimi no Na wa.</td>\n",
       "      <td>99</td>\n",
       "      <td>5</td>\n",
       "    </tr>\n",
       "    <tr>\n",
       "      <th>1</th>\n",
       "      <td>32281</td>\n",
       "      <td>Kimi no Na wa.</td>\n",
       "      <td>152</td>\n",
       "      <td>10</td>\n",
       "    </tr>\n",
       "    <tr>\n",
       "      <th>2</th>\n",
       "      <td>32281</td>\n",
       "      <td>Kimi no Na wa.</td>\n",
       "      <td>244</td>\n",
       "      <td>10</td>\n",
       "    </tr>\n",
       "    <tr>\n",
       "      <th>3</th>\n",
       "      <td>32281</td>\n",
       "      <td>Kimi no Na wa.</td>\n",
       "      <td>271</td>\n",
       "      <td>10</td>\n",
       "    </tr>\n",
       "    <tr>\n",
       "      <th>4</th>\n",
       "      <td>32281</td>\n",
       "      <td>Kimi no Na wa.</td>\n",
       "      <td>278</td>\n",
       "      <td>-1</td>\n",
       "    </tr>\n",
       "  </tbody>\n",
       "</table>\n",
       "</div>"
      ],
      "text/plain": [
       "   anime_id            name  user_id  rating\n",
       "0     32281  Kimi no Na wa.       99       5\n",
       "1     32281  Kimi no Na wa.      152      10\n",
       "2     32281  Kimi no Na wa.      244      10\n",
       "3     32281  Kimi no Na wa.      271      10\n",
       "4     32281  Kimi no Na wa.      278      -1"
      ]
     },
     "execution_count": 20,
     "metadata": {},
     "output_type": "execute_result"
    }
   ],
   "source": [
    "ratings.head()"
   ]
  }
 ],
 "metadata": {
  "kernelspec": {
   "display_name": "Python 3",
   "language": "python",
   "name": "python3"
  },
  "language_info": {
   "codemirror_mode": {
    "name": "ipython",
    "version": 3
   },
   "file_extension": ".py",
   "mimetype": "text/x-python",
   "name": "python",
   "nbconvert_exporter": "python",
   "pygments_lexer": "ipython3",
   "version": "3.11.9"
  }
 },
 "nbformat": 4,
 "nbformat_minor": 5
}
