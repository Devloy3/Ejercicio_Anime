{
 "cells": [
  {
   "cell_type": "code",
   "execution_count": 141,
   "id": "f2e8ba1f",
   "metadata": {},
   "outputs": [],
   "source": [
    "import pandas as pd\n",
    "\n",
    "ratings1 = pd.read_csv('rating.csv')  \n",
    "anime1 = pd.read_csv('anime.csv')"
   ]
  },
  {
   "cell_type": "code",
   "execution_count": 142,
   "id": "edd8df79",
   "metadata": {},
   "outputs": [],
   "source": [
    "ratings = ratings1[['user_id', 'anime_id', 'rating']]\n",
    "anime = anime1[['anime_id', 'name']]"
   ]
  },
  {
   "cell_type": "markdown",
   "id": "809bf1b5",
   "metadata": {},
   "source": [
    "### Observem el dataset"
   ]
  },
  {
   "cell_type": "code",
   "execution_count": 143,
   "id": "28b1bac7",
   "metadata": {},
   "outputs": [
    {
     "data": {
      "text/plain": [
       "(7813737, 3)"
      ]
     },
     "execution_count": 143,
     "metadata": {},
     "output_type": "execute_result"
    }
   ],
   "source": [
    "ratings.shape"
   ]
  },
  {
   "cell_type": "code",
   "execution_count": 144,
   "id": "95e3a861",
   "metadata": {},
   "outputs": [
    {
     "data": {
      "text/plain": [
       "(12294, 2)"
      ]
     },
     "execution_count": 144,
     "metadata": {},
     "output_type": "execute_result"
    }
   ],
   "source": [
    "anime.shape"
   ]
  },
  {
   "cell_type": "code",
   "execution_count": 145,
   "id": "8ac23c24",
   "metadata": {},
   "outputs": [
    {
     "name": "stdout",
     "output_type": "stream",
     "text": [
      "<class 'pandas.core.frame.DataFrame'>\n",
      "RangeIndex: 7813737 entries, 0 to 7813736\n",
      "Data columns (total 3 columns):\n",
      " #   Column    Dtype\n",
      "---  ------    -----\n",
      " 0   user_id   int64\n",
      " 1   anime_id  int64\n",
      " 2   rating    int64\n",
      "dtypes: int64(3)\n",
      "memory usage: 178.8 MB\n"
     ]
    }
   ],
   "source": [
    "ratings.info()"
   ]
  },
  {
   "cell_type": "code",
   "execution_count": 146,
   "id": "c0fac098",
   "metadata": {},
   "outputs": [
    {
     "name": "stdout",
     "output_type": "stream",
     "text": [
      "<class 'pandas.core.frame.DataFrame'>\n",
      "RangeIndex: 12294 entries, 0 to 12293\n",
      "Data columns (total 2 columns):\n",
      " #   Column    Non-Null Count  Dtype \n",
      "---  ------    --------------  ----- \n",
      " 0   anime_id  12294 non-null  int64 \n",
      " 1   name      12294 non-null  object\n",
      "dtypes: int64(1), object(1)\n",
      "memory usage: 192.2+ KB\n"
     ]
    }
   ],
   "source": [
    "anime.info()\n"
   ]
  },
  {
   "cell_type": "code",
   "execution_count": 147,
   "id": "35f4bac8",
   "metadata": {},
   "outputs": [
    {
     "data": {
      "text/plain": [
       "count    7.813737e+06\n",
       "mean     6.144030e+00\n",
       "std      3.727800e+00\n",
       "min     -1.000000e+00\n",
       "25%      6.000000e+00\n",
       "50%      7.000000e+00\n",
       "75%      9.000000e+00\n",
       "max      1.000000e+01\n",
       "Name: rating, dtype: float64"
      ]
     },
     "execution_count": 147,
     "metadata": {},
     "output_type": "execute_result"
    }
   ],
   "source": [
    "ratings['rating'].describe()"
   ]
  },
  {
   "cell_type": "code",
   "execution_count": 148,
   "id": "0dfa3edf",
   "metadata": {},
   "outputs": [
    {
     "data": {
      "text/plain": [
       "array([-1, 10,  8,  6,  9,  7,  3,  5,  4,  1,  2], dtype=int64)"
      ]
     },
     "execution_count": 148,
     "metadata": {},
     "output_type": "execute_result"
    }
   ],
   "source": [
    "ratings['rating'].unique()"
   ]
  },
  {
   "cell_type": "code",
   "execution_count": 149,
   "id": "40a545ad",
   "metadata": {},
   "outputs": [
    {
     "data": {
      "text/plain": [
       "user_id     False\n",
       "anime_id    False\n",
       "rating      False\n",
       "dtype: bool"
      ]
     },
     "execution_count": 149,
     "metadata": {},
     "output_type": "execute_result"
    }
   ],
   "source": [
    "ratings.isna().any()"
   ]
  },
  {
   "cell_type": "code",
   "execution_count": 150,
   "id": "856a75f1",
   "metadata": {},
   "outputs": [
    {
     "data": {
      "text/plain": [
       "rating\n",
       "-1     1476496\n",
       " 1       16649\n",
       " 2       23150\n",
       " 3       41453\n",
       " 4      104291\n",
       " 5      282806\n",
       " 6      637775\n",
       " 7     1375287\n",
       " 8     1646019\n",
       " 9     1254096\n",
       " 10     955715\n",
       "Name: count, dtype: int64"
      ]
     },
     "execution_count": 150,
     "metadata": {},
     "output_type": "execute_result"
    }
   ],
   "source": [
    "ratings['rating'].value_counts().sort_index()"
   ]
  },
  {
   "cell_type": "markdown",
   "id": "250a6da6",
   "metadata": {},
   "source": [
    "### Eliminem els -1"
   ]
  },
  {
   "cell_type": "code",
   "execution_count": 151,
   "id": "d6f53247",
   "metadata": {},
   "outputs": [],
   "source": [
    "ratings = ratings[ratings['rating'] != -1]"
   ]
  },
  {
   "cell_type": "code",
   "execution_count": 152,
   "id": "15482359",
   "metadata": {},
   "outputs": [
    {
     "data": {
      "text/plain": [
       "(6337241, 3)"
      ]
     },
     "execution_count": 152,
     "metadata": {},
     "output_type": "execute_result"
    }
   ],
   "source": [
    "ratings.shape"
   ]
  },
  {
   "cell_type": "markdown",
   "id": "e5dd0fd6",
   "metadata": {},
   "source": [
    "### Duplicats"
   ]
  },
  {
   "cell_type": "code",
   "execution_count": 153,
   "id": "fe7543f3",
   "metadata": {},
   "outputs": [
    {
     "name": "stdout",
     "output_type": "stream",
     "text": [
      "Número de duplicados: 7\n"
     ]
    }
   ],
   "source": [
    "duplicates = ratings.duplicated(subset=['user_id', 'anime_id']).sum()\n",
    "print(f\"Número de duplicados: {duplicates}\")"
   ]
  },
  {
   "cell_type": "code",
   "execution_count": 154,
   "id": "54a55fee",
   "metadata": {},
   "outputs": [
    {
     "name": "stdout",
     "output_type": "stream",
     "text": [
      "Número de duplicados: 0\n"
     ]
    }
   ],
   "source": [
    "duplicates2 = anime.duplicated(subset=['anime_id', 'name']).sum()\n",
    "print(f\"Número de duplicados: {duplicates2}\")"
   ]
  },
  {
   "cell_type": "code",
   "execution_count": 155,
   "id": "237fe971",
   "metadata": {},
   "outputs": [
    {
     "data": {
      "text/html": [
       "<div>\n",
       "<style scoped>\n",
       "    .dataframe tbody tr th:only-of-type {\n",
       "        vertical-align: middle;\n",
       "    }\n",
       "\n",
       "    .dataframe tbody tr th {\n",
       "        vertical-align: top;\n",
       "    }\n",
       "\n",
       "    .dataframe thead th {\n",
       "        text-align: right;\n",
       "    }\n",
       "</style>\n",
       "<table border=\"1\" class=\"dataframe\">\n",
       "  <thead>\n",
       "    <tr style=\"text-align: right;\">\n",
       "      <th></th>\n",
       "      <th>user_id</th>\n",
       "      <th>anime_id</th>\n",
       "      <th>rating</th>\n",
       "    </tr>\n",
       "  </thead>\n",
       "  <tbody>\n",
       "    <tr>\n",
       "      <th>4499243</th>\n",
       "      <td>42653</td>\n",
       "      <td>1575</td>\n",
       "      <td>8</td>\n",
       "    </tr>\n",
       "    <tr>\n",
       "      <th>4499286</th>\n",
       "      <td>42653</td>\n",
       "      <td>1575</td>\n",
       "      <td>6</td>\n",
       "    </tr>\n",
       "    <tr>\n",
       "      <th>4499244</th>\n",
       "      <td>42653</td>\n",
       "      <td>2001</td>\n",
       "      <td>8</td>\n",
       "    </tr>\n",
       "    <tr>\n",
       "      <th>4499288</th>\n",
       "      <td>42653</td>\n",
       "      <td>2001</td>\n",
       "      <td>10</td>\n",
       "    </tr>\n",
       "    <tr>\n",
       "      <th>4499255</th>\n",
       "      <td>42653</td>\n",
       "      <td>11757</td>\n",
       "      <td>8</td>\n",
       "    </tr>\n",
       "    <tr>\n",
       "      <th>4499307</th>\n",
       "      <td>42653</td>\n",
       "      <td>11757</td>\n",
       "      <td>5</td>\n",
       "    </tr>\n",
       "    <tr>\n",
       "      <th>4499258</th>\n",
       "      <td>42653</td>\n",
       "      <td>16498</td>\n",
       "      <td>8</td>\n",
       "    </tr>\n",
       "    <tr>\n",
       "      <th>4499316</th>\n",
       "      <td>42653</td>\n",
       "      <td>16498</td>\n",
       "      <td>8</td>\n",
       "    </tr>\n",
       "    <tr>\n",
       "      <th>4499261</th>\n",
       "      <td>42653</td>\n",
       "      <td>20507</td>\n",
       "      <td>7</td>\n",
       "    </tr>\n",
       "    <tr>\n",
       "      <th>4499320</th>\n",
       "      <td>42653</td>\n",
       "      <td>20507</td>\n",
       "      <td>9</td>\n",
       "    </tr>\n",
       "    <tr>\n",
       "      <th>4499263</th>\n",
       "      <td>42653</td>\n",
       "      <td>22319</td>\n",
       "      <td>8</td>\n",
       "    </tr>\n",
       "    <tr>\n",
       "      <th>4499325</th>\n",
       "      <td>42653</td>\n",
       "      <td>22319</td>\n",
       "      <td>6</td>\n",
       "    </tr>\n",
       "    <tr>\n",
       "      <th>4499266</th>\n",
       "      <td>42653</td>\n",
       "      <td>23283</td>\n",
       "      <td>8</td>\n",
       "    </tr>\n",
       "    <tr>\n",
       "      <th>4499326</th>\n",
       "      <td>42653</td>\n",
       "      <td>23283</td>\n",
       "      <td>9</td>\n",
       "    </tr>\n",
       "  </tbody>\n",
       "</table>\n",
       "</div>"
      ],
      "text/plain": [
       "         user_id  anime_id  rating\n",
       "4499243    42653      1575       8\n",
       "4499286    42653      1575       6\n",
       "4499244    42653      2001       8\n",
       "4499288    42653      2001      10\n",
       "4499255    42653     11757       8\n",
       "4499307    42653     11757       5\n",
       "4499258    42653     16498       8\n",
       "4499316    42653     16498       8\n",
       "4499261    42653     20507       7\n",
       "4499320    42653     20507       9\n",
       "4499263    42653     22319       8\n",
       "4499325    42653     22319       6\n",
       "4499266    42653     23283       8\n",
       "4499326    42653     23283       9"
      ]
     },
     "execution_count": 155,
     "metadata": {},
     "output_type": "execute_result"
    }
   ],
   "source": [
    "dup_mask = ratings.duplicated(subset=['user_id', 'anime_id'], keep=False)\n",
    "ratings[dup_mask].sort_values(['user_id', 'anime_id']).head(20)"
   ]
  },
  {
   "cell_type": "code",
   "execution_count": 156,
   "id": "1663cdd5",
   "metadata": {},
   "outputs": [
    {
     "name": "stdout",
     "output_type": "stream",
     "text": [
      "Duplicados restantes: 0\n"
     ]
    }
   ],
   "source": [
    "# Gestionem els duplicats amb la mitjana\n",
    "ratings = (\n",
    "    ratings\n",
    "    .groupby(['user_id', 'anime_id'], as_index=False)\n",
    "    .agg({'rating': 'median'})  # con dos valores, la mediana = media\n",
    ")\n",
    "\n",
    "# Arrodonim a enter\n",
    "ratings['rating'] = ratings['rating'].round().astype(int)\n",
    "\n",
    "\n",
    "print(\"Duplicados restantes:\", ratings.duplicated(subset=['user_id', 'anime_id']).sum())"
   ]
  },
  {
   "cell_type": "code",
   "execution_count": 157,
   "id": "61b6b262",
   "metadata": {},
   "outputs": [],
   "source": [
    "# df = pd.merge(\n",
    "#    ratings,\n",
    "#    anime[['anime_id', 'name']],\n",
    "#    on='anime_id',\n",
    "#    how='inner'      # solo animes que aparezcan en ratings\n",
    "#)"
   ]
  },
  {
   "cell_type": "markdown",
   "id": "b0e4024a",
   "metadata": {},
   "source": [
    "## Mirem quantes valoracions te cada anime"
   ]
  },
  {
   "cell_type": "code",
   "execution_count": 158,
   "id": "b355d3af",
   "metadata": {},
   "outputs": [
    {
     "name": "stdout",
     "output_type": "stream",
     "text": [
      "count     9927.000000\n",
      "mean       638.383600\n",
      "std       1795.858567\n",
      "min          1.000000\n",
      "25%          9.000000\n",
      "50%         57.000000\n",
      "75%        395.000000\n",
      "max      34226.000000\n",
      "Name: count, dtype: float64\n",
      "P50 = 57\n",
      "P75 = 395\n",
      "P90 = 1688\n",
      "P95 = 3347\n",
      "P99 = 8836\n"
     ]
    }
   ],
   "source": [
    "counts_per_anime = ratings['anime_id'].value_counts()\n",
    "print(counts_per_anime.describe())\n",
    "\n",
    "for p in [50, 75, 90, 95, 99]:\n",
    "    print(f\"P{p} =\", int(counts_per_anime.quantile(p/100)))"
   ]
  },
  {
   "cell_type": "code",
   "execution_count": 159,
   "id": "07ca914c",
   "metadata": {},
   "outputs": [
    {
     "data": {
      "image/png": "[encoded data removed]",
      "text/plain": [
       "<Figure size 1000x500 with 1 Axes>"
      ]
     },
     "metadata": {},
     "output_type": "display_data"
    }
   ],
   "source": [
    "import matplotlib.pyplot as plt\n",
    "\n",
    "plt.figure(figsize=(10,5))\n",
    "plt.hist(counts_per_anime, bins=100, edgecolor='black', log=True)\n",
    "plt.title('Distribució de valoracions per anime (escala logarítmica)')\n",
    "plt.xlabel('Nombre de valoracions per anime')\n",
    "plt.ylabel('Nombre d’animes (log scale)')\n",
    "plt.show()\n"
   ]
  },
  {
   "cell_type": "code",
   "execution_count": 160,
   "id": "e7dee667",
   "metadata": {},
   "outputs": [
    {
     "data": {
      "text/plain": [
       "anime_id\n",
       "1535     34226\n",
       "11757    26309\n",
       "16498    25289\n",
       "1575     24125\n",
       "6547     23565\n",
       "226      23528\n",
       "20       22071\n",
       "5114     21494\n",
       "121      21332\n",
       "2904     21124\n",
       "Name: count, dtype: int64"
      ]
     },
     "execution_count": 160,
     "metadata": {},
     "output_type": "execute_result"
    }
   ],
   "source": [
    "counts_per_anime.sort_values(ascending=False).head(10)\n"
   ]
  },
  {
   "cell_type": "code",
   "execution_count": 161,
   "id": "fe61aaf7",
   "metadata": {},
   "outputs": [
    {
     "name": "stdout",
     "output_type": "stream",
     "text": [
      "Animes abans del filtre: 9927\n",
      "Animes després del filtre: 4143\n",
      "Files totals després del filtre: 6199643\n",
      "Percentatge de files conservades: 97.83%\n"
     ]
    }
   ],
   "source": [
    "MIN_RATINGS_ITEM = 100\n",
    "\n",
    "valid_animes = counts_per_anime[counts_per_anime >= MIN_RATINGS_ITEM].index\n",
    "\n",
    "# Apliquem el filtre\n",
    "df_filt = ratings[ratings['anime_id'].isin(valid_animes)].copy()\n",
    "\n",
    "# Mostrem resultats\n",
    "print(\"Animes abans del filtre:\", ratings['anime_id'].nunique())\n",
    "print(\"Animes després del filtre:\", df_filt['anime_id'].nunique())\n",
    "print(\"Files totals després del filtre:\", len(df_filt))\n",
    "\n",
    "percentatge = len(df_filt) / len(ratings) * 100\n",
    "print(f\"Percentatge de files conservades: {percentatge:.2f}%\")"
   ]
  },
  {
   "cell_type": "markdown",
   "id": "8f6ae0a3",
   "metadata": {},
   "source": [
    "distribució molt desigual (la “cua llarga”)."
   ]
  },
  {
   "cell_type": "markdown",
   "id": "9f8ea2dc",
   "metadata": {},
   "source": [
    "## Comptem quantes valoracions té cada usuari\n",
    "Los usuarios que han hecho pocas vlaoraciones tampoco contribuyen demasiado al caluclo de similitud porque no nos dan suficientes puntos de comparacion, asi que quizas se podrian filtrar.\n",
    "Amb 1 sola valoració, un usuari no genera cap parella d’ítems; per tant, no aporta informació relacional. Considerem fer el tall a 5 valoracions, que aixi mantenim la majoria de dades, mirant el 25%, i aixi alhora de fer la matriu hi hauran menys files, tot i que amb 2 ja ens aporta informació."
   ]
  },
  {
   "cell_type": "code",
   "execution_count": 162,
   "id": "12a3a882",
   "metadata": {},
   "outputs": [
    {
     "name": "stdout",
     "output_type": "stream",
     "text": [
      "count    69566.000000\n",
      "mean        89.118866\n",
      "std        128.568700\n",
      "min          1.000000\n",
      "25%         13.000000\n",
      "50%         44.000000\n",
      "75%        113.000000\n",
      "max       2790.000000\n",
      "Name: count, dtype: float64\n",
      "P50 = 44\n",
      "P75 = 113\n",
      "P90 = 226\n",
      "P95 = 326\n",
      "P99 = 617\n"
     ]
    }
   ],
   "source": [
    "counts_user = df_filt['user_id'].value_counts()\n",
    "\n",
    "print(counts_user.describe())\n",
    "\n",
    "for p in [50, 75, 90, 95, 99]:\n",
    "    print(f\"P{p} =\", int(counts_user.quantile(p/100)))\n"
   ]
  },
  {
   "cell_type": "code",
   "execution_count": 163,
   "id": "93925726",
   "metadata": {},
   "outputs": [
    {
     "data": {
      "text/plain": [
       "user_id\n",
       "42635    2790\n",
       "57620    2431\n",
       "59643    2342\n",
       "45659    2211\n",
       "7345     2209\n",
       "51693    2063\n",
       "65840    2046\n",
       "53698    2033\n",
       "22434    1787\n",
       "11536    1661\n",
       "Name: count, dtype: int64"
      ]
     },
     "execution_count": 163,
     "metadata": {},
     "output_type": "execute_result"
    }
   ],
   "source": [
    "counts_user.sort_values(ascending=False).head(10)\n"
   ]
  },
  {
   "cell_type": "code",
   "execution_count": 164,
   "id": "ef87ce0f",
   "metadata": {},
   "outputs": [
    {
     "data": {
      "image/png": "[encoded data removed]",
      "text/plain": [
       "<Figure size 1000x500 with 1 Axes>"
      ]
     },
     "metadata": {},
     "output_type": "display_data"
    }
   ],
   "source": [
    "plt.figure(figsize=(10,5))\n",
    "plt.hist(counts_user, bins=100, edgecolor='black', log=True)\n",
    "plt.title('Distribució de nombre d’animes valorats per usuari (escala logarítmica)')\n",
    "plt.xlabel('Nombre d’animes valorats')\n",
    "plt.ylabel('Nombre d’usuaris (log scale)')\n",
    "plt.show()\n"
   ]
  },
  {
   "cell_type": "code",
   "execution_count": 165,
   "id": "49afdf3c",
   "metadata": {},
   "outputs": [
    {
     "name": "stdout",
     "output_type": "stream",
     "text": [
      "Usuaris abans del filtre: 69566\n",
      "Usuaris després del filtre: 60921\n",
      "Files totals després del filtre: 6180778\n",
      "Percentatge de files conservades: 97.53%\n"
     ]
    }
   ],
   "source": [
    "# Comptem usuaris abans del filtre\n",
    "usuaris_abans = df_filt['user_id'].nunique()\n",
    "\n",
    "# Apliquem filtre d'usuaris\n",
    "MIN_RATINGS_USER = 5\n",
    "counts_user = df_filt['user_id'].value_counts()\n",
    "valid_users = counts_user[counts_user >= MIN_RATINGS_USER].index\n",
    "df_filt = df_filt[df_filt['user_id'].isin(valid_users)].copy()\n",
    "\n",
    "# Comptem usuaris i files després\n",
    "usuaris_despres = df_filt['user_id'].nunique()\n",
    "files_despres = len(df_filt)\n",
    "\n",
    "print(\"Usuaris abans del filtre:\", usuaris_abans)\n",
    "print(\"Usuaris després del filtre:\", usuaris_despres)\n",
    "print(\"Files totals després del filtre:\", files_despres)\n",
    "\n",
    "# percetantge de dades que he conservat\n",
    "percentatge = len(df_filt) / len(ratings) * 100\n",
    "print(f\"Percentatge de files conservades: {percentatge:.2f}%\")\n"
   ]
  },
  {
   "cell_type": "markdown",
   "id": "e468e72b",
   "metadata": {},
   "source": [
    "Treiem els que han valorat més de 600 animes (el teu P99):"
   ]
  },
  {
   "cell_type": "code",
   "execution_count": 166,
   "id": "839ca265",
   "metadata": {},
   "outputs": [],
   "source": [
    "MAX_RATINGS_USER = counts_user.quantile(0.99)  # ≈ 617\n",
    "valid_users = counts_user[\n",
    "    (counts_user >= 5) &\n",
    "    (counts_user <= MAX_RATINGS_USER)\n",
    "].index\n",
    "\n",
    "df_filt = df_filt[df_filt['user_id'].isin(valid_users)].copy()\n"
   ]
  },
  {
   "cell_type": "code",
   "execution_count": 167,
   "id": "7670c2b4",
   "metadata": {},
   "outputs": [
    {
     "name": "stdout",
     "output_type": "stream",
     "text": [
      "Usuaris després del filtre superior: 60228\n",
      "Files totals després del filtre superior: 5597916\n",
      "Percentatge de files conservades: 88.33%\n",
      "Usuaris eliminats en total: 9338\n"
     ]
    }
   ],
   "source": [
    "# Comptem usuaris i files després del filtre superior\n",
    "usuaris_despres2 = df_filt['user_id'].nunique()\n",
    "files_despres2 = len(df_filt)\n",
    "\n",
    "print(\"Usuaris després del filtre superior:\", usuaris_despres2)\n",
    "print(\"Files totals després del filtre superior:\", files_despres2)\n",
    "\n",
    "# Percentatge de files conservades respecte a l'original\n",
    "percentatge2 = len(df_filt) / len(ratings) * 100\n",
    "print(f\"Percentatge de files conservades: {percentatge2:.2f}%\")\n",
    "\n",
    "perdua_usuaris = usuaris_abans - usuaris_despres2\n",
    "print(f\"Usuaris eliminats en total: {perdua_usuaris}\")"
   ]
  },
  {
   "cell_type": "markdown",
   "id": "5669ef03",
   "metadata": {},
   "source": [
    "## Pivot table"
   ]
  },
  {
   "cell_type": "code",
   "execution_count": 168,
   "id": "95e4d96d",
   "metadata": {},
   "outputs": [],
   "source": [
    "# import html\n",
    "\n",
    "# # Decodifiquem caràcters HTML en els noms d’anime\n",
    "# df_filt['name'] = df_filt['name'].apply(html.unescape)\n",
    "\n",
    "# # Comprovem que ha funcionat\n",
    "# df_filt['name'].head(10)\n"
   ]
  },
  {
   "cell_type": "code",
   "execution_count": 169,
   "id": "63252d89",
   "metadata": {},
   "outputs": [
    {
     "data": {
      "text/html": [
       "<div>\n",
       "<style scoped>\n",
       "    .dataframe tbody tr th:only-of-type {\n",
       "        vertical-align: middle;\n",
       "    }\n",
       "\n",
       "    .dataframe tbody tr th {\n",
       "        vertical-align: top;\n",
       "    }\n",
       "\n",
       "    .dataframe thead th {\n",
       "        text-align: right;\n",
       "    }\n",
       "</style>\n",
       "<table border=\"1\" class=\"dataframe\">\n",
       "  <thead>\n",
       "    <tr style=\"text-align: right;\">\n",
       "      <th>anime_id</th>\n",
       "      <th>1</th>\n",
       "      <th>5</th>\n",
       "      <th>6</th>\n",
       "      <th>7</th>\n",
       "      <th>8</th>\n",
       "      <th>15</th>\n",
       "      <th>16</th>\n",
       "      <th>17</th>\n",
       "      <th>18</th>\n",
       "      <th>19</th>\n",
       "      <th>...</th>\n",
       "      <th>33241</th>\n",
       "      <th>33338</th>\n",
       "      <th>33372</th>\n",
       "      <th>33421</th>\n",
       "      <th>33524</th>\n",
       "      <th>33558</th>\n",
       "      <th>33569</th>\n",
       "      <th>33964</th>\n",
       "      <th>34103</th>\n",
       "      <th>34240</th>\n",
       "    </tr>\n",
       "    <tr>\n",
       "      <th>user_id</th>\n",
       "      <th></th>\n",
       "      <th></th>\n",
       "      <th></th>\n",
       "      <th></th>\n",
       "      <th></th>\n",
       "      <th></th>\n",
       "      <th></th>\n",
       "      <th></th>\n",
       "      <th></th>\n",
       "      <th></th>\n",
       "      <th></th>\n",
       "      <th></th>\n",
       "      <th></th>\n",
       "      <th></th>\n",
       "      <th></th>\n",
       "      <th></th>\n",
       "      <th></th>\n",
       "      <th></th>\n",
       "      <th></th>\n",
       "      <th></th>\n",
       "      <th></th>\n",
       "    </tr>\n",
       "  </thead>\n",
       "  <tbody>\n",
       "    <tr>\n",
       "      <th>3</th>\n",
       "      <td>NaN</td>\n",
       "      <td>NaN</td>\n",
       "      <td>NaN</td>\n",
       "      <td>NaN</td>\n",
       "      <td>NaN</td>\n",
       "      <td>NaN</td>\n",
       "      <td>NaN</td>\n",
       "      <td>NaN</td>\n",
       "      <td>NaN</td>\n",
       "      <td>NaN</td>\n",
       "      <td>...</td>\n",
       "      <td>NaN</td>\n",
       "      <td>NaN</td>\n",
       "      <td>NaN</td>\n",
       "      <td>NaN</td>\n",
       "      <td>NaN</td>\n",
       "      <td>NaN</td>\n",
       "      <td>NaN</td>\n",
       "      <td>NaN</td>\n",
       "      <td>NaN</td>\n",
       "      <td>NaN</td>\n",
       "    </tr>\n",
       "    <tr>\n",
       "      <th>5</th>\n",
       "      <td>NaN</td>\n",
       "      <td>NaN</td>\n",
       "      <td>8.0</td>\n",
       "      <td>NaN</td>\n",
       "      <td>NaN</td>\n",
       "      <td>6.0</td>\n",
       "      <td>NaN</td>\n",
       "      <td>6.0</td>\n",
       "      <td>6.0</td>\n",
       "      <td>NaN</td>\n",
       "      <td>...</td>\n",
       "      <td>NaN</td>\n",
       "      <td>NaN</td>\n",
       "      <td>NaN</td>\n",
       "      <td>NaN</td>\n",
       "      <td>NaN</td>\n",
       "      <td>NaN</td>\n",
       "      <td>NaN</td>\n",
       "      <td>NaN</td>\n",
       "      <td>NaN</td>\n",
       "      <td>NaN</td>\n",
       "    </tr>\n",
       "    <tr>\n",
       "      <th>7</th>\n",
       "      <td>NaN</td>\n",
       "      <td>NaN</td>\n",
       "      <td>NaN</td>\n",
       "      <td>NaN</td>\n",
       "      <td>NaN</td>\n",
       "      <td>NaN</td>\n",
       "      <td>NaN</td>\n",
       "      <td>NaN</td>\n",
       "      <td>NaN</td>\n",
       "      <td>NaN</td>\n",
       "      <td>...</td>\n",
       "      <td>NaN</td>\n",
       "      <td>NaN</td>\n",
       "      <td>NaN</td>\n",
       "      <td>NaN</td>\n",
       "      <td>NaN</td>\n",
       "      <td>NaN</td>\n",
       "      <td>NaN</td>\n",
       "      <td>NaN</td>\n",
       "      <td>NaN</td>\n",
       "      <td>NaN</td>\n",
       "    </tr>\n",
       "    <tr>\n",
       "      <th>8</th>\n",
       "      <td>NaN</td>\n",
       "      <td>NaN</td>\n",
       "      <td>NaN</td>\n",
       "      <td>NaN</td>\n",
       "      <td>NaN</td>\n",
       "      <td>NaN</td>\n",
       "      <td>NaN</td>\n",
       "      <td>NaN</td>\n",
       "      <td>NaN</td>\n",
       "      <td>NaN</td>\n",
       "      <td>...</td>\n",
       "      <td>NaN</td>\n",
       "      <td>NaN</td>\n",
       "      <td>NaN</td>\n",
       "      <td>NaN</td>\n",
       "      <td>NaN</td>\n",
       "      <td>NaN</td>\n",
       "      <td>NaN</td>\n",
       "      <td>NaN</td>\n",
       "      <td>NaN</td>\n",
       "      <td>NaN</td>\n",
       "    </tr>\n",
       "    <tr>\n",
       "      <th>11</th>\n",
       "      <td>NaN</td>\n",
       "      <td>NaN</td>\n",
       "      <td>NaN</td>\n",
       "      <td>NaN</td>\n",
       "      <td>NaN</td>\n",
       "      <td>NaN</td>\n",
       "      <td>NaN</td>\n",
       "      <td>NaN</td>\n",
       "      <td>NaN</td>\n",
       "      <td>NaN</td>\n",
       "      <td>...</td>\n",
       "      <td>NaN</td>\n",
       "      <td>NaN</td>\n",
       "      <td>NaN</td>\n",
       "      <td>NaN</td>\n",
       "      <td>NaN</td>\n",
       "      <td>NaN</td>\n",
       "      <td>NaN</td>\n",
       "      <td>NaN</td>\n",
       "      <td>NaN</td>\n",
       "      <td>NaN</td>\n",
       "    </tr>\n",
       "  </tbody>\n",
       "</table>\n",
       "<p>5 rows × 4143 columns</p>\n",
       "</div>"
      ],
      "text/plain": [
       "anime_id  1      5      6      7      8      15     16     17     18     \\\n",
       "user_id                                                                   \n",
       "3           NaN    NaN    NaN    NaN    NaN    NaN    NaN    NaN    NaN   \n",
       "5           NaN    NaN    8.0    NaN    NaN    6.0    NaN    6.0    6.0   \n",
       "7           NaN    NaN    NaN    NaN    NaN    NaN    NaN    NaN    NaN   \n",
       "8           NaN    NaN    NaN    NaN    NaN    NaN    NaN    NaN    NaN   \n",
       "11          NaN    NaN    NaN    NaN    NaN    NaN    NaN    NaN    NaN   \n",
       "\n",
       "anime_id  19     ...  33241  33338  33372  33421  33524  33558  33569  33964  \\\n",
       "user_id          ...                                                           \n",
       "3           NaN  ...    NaN    NaN    NaN    NaN    NaN    NaN    NaN    NaN   \n",
       "5           NaN  ...    NaN    NaN    NaN    NaN    NaN    NaN    NaN    NaN   \n",
       "7           NaN  ...    NaN    NaN    NaN    NaN    NaN    NaN    NaN    NaN   \n",
       "8           NaN  ...    NaN    NaN    NaN    NaN    NaN    NaN    NaN    NaN   \n",
       "11          NaN  ...    NaN    NaN    NaN    NaN    NaN    NaN    NaN    NaN   \n",
       "\n",
       "anime_id  34103  34240  \n",
       "user_id                 \n",
       "3           NaN    NaN  \n",
       "5           NaN    NaN  \n",
       "7           NaN    NaN  \n",
       "8           NaN    NaN  \n",
       "11          NaN    NaN  \n",
       "\n",
       "[5 rows x 4143 columns]"
      ]
     },
     "execution_count": 169,
     "metadata": {},
     "output_type": "execute_result"
    }
   ],
   "source": [
    "userRatings = df_filt.pivot_table(\n",
    "    index='user_id',\n",
    "    columns='anime_id',   \n",
    "    values='rating'\n",
    ")\n",
    "\n",
    "userRatings.head()"
   ]
  },
  {
   "cell_type": "code",
   "execution_count": 170,
   "id": "169f614a",
   "metadata": {},
   "outputs": [],
   "source": [
    "corrMatrix = userRatings.corr(method='pearson', min_periods=500)"
   ]
  },
  {
   "cell_type": "markdown",
   "id": "27516246",
   "metadata": {},
   "source": [
    "min_periods diu quants usuaris mínims han d’haver vist tots dos animes per poder comparar-los.\n",
    "\n",
    "Si hi ha menys usuaris en comú, no es calcula la semblança (es deixa buit)."
   ]
  },
  {
   "cell_type": "code",
   "execution_count": 171,
   "id": "2208dea3",
   "metadata": {},
   "outputs": [
    {
     "data": {
      "text/html": [
       "<div>\n",
       "<style scoped>\n",
       "    .dataframe tbody tr th:only-of-type {\n",
       "        vertical-align: middle;\n",
       "    }\n",
       "\n",
       "    .dataframe tbody tr th {\n",
       "        vertical-align: top;\n",
       "    }\n",
       "\n",
       "    .dataframe thead th {\n",
       "        text-align: right;\n",
       "    }\n",
       "</style>\n",
       "<table border=\"1\" class=\"dataframe\">\n",
       "  <thead>\n",
       "    <tr style=\"text-align: right;\">\n",
       "      <th>anime_id</th>\n",
       "      <th>1</th>\n",
       "      <th>5</th>\n",
       "      <th>6</th>\n",
       "      <th>7</th>\n",
       "      <th>8</th>\n",
       "      <th>15</th>\n",
       "      <th>16</th>\n",
       "      <th>17</th>\n",
       "      <th>18</th>\n",
       "      <th>19</th>\n",
       "      <th>...</th>\n",
       "      <th>33241</th>\n",
       "      <th>33338</th>\n",
       "      <th>33372</th>\n",
       "      <th>33421</th>\n",
       "      <th>33524</th>\n",
       "      <th>33558</th>\n",
       "      <th>33569</th>\n",
       "      <th>33964</th>\n",
       "      <th>34103</th>\n",
       "      <th>34240</th>\n",
       "    </tr>\n",
       "    <tr>\n",
       "      <th>anime_id</th>\n",
       "      <th></th>\n",
       "      <th></th>\n",
       "      <th></th>\n",
       "      <th></th>\n",
       "      <th></th>\n",
       "      <th></th>\n",
       "      <th></th>\n",
       "      <th></th>\n",
       "      <th></th>\n",
       "      <th></th>\n",
       "      <th></th>\n",
       "      <th></th>\n",
       "      <th></th>\n",
       "      <th></th>\n",
       "      <th></th>\n",
       "      <th></th>\n",
       "      <th></th>\n",
       "      <th></th>\n",
       "      <th></th>\n",
       "      <th></th>\n",
       "      <th></th>\n",
       "    </tr>\n",
       "  </thead>\n",
       "  <tbody>\n",
       "    <tr>\n",
       "      <th>1</th>\n",
       "      <td>1.000000</td>\n",
       "      <td>0.524380</td>\n",
       "      <td>0.313323</td>\n",
       "      <td>0.123672</td>\n",
       "      <td>NaN</td>\n",
       "      <td>0.085844</td>\n",
       "      <td>0.232780</td>\n",
       "      <td>NaN</td>\n",
       "      <td>0.145075</td>\n",
       "      <td>0.246525</td>\n",
       "      <td>...</td>\n",
       "      <td>NaN</td>\n",
       "      <td>NaN</td>\n",
       "      <td>NaN</td>\n",
       "      <td>NaN</td>\n",
       "      <td>NaN</td>\n",
       "      <td>NaN</td>\n",
       "      <td>NaN</td>\n",
       "      <td>NaN</td>\n",
       "      <td>NaN</td>\n",
       "      <td>NaN</td>\n",
       "    </tr>\n",
       "    <tr>\n",
       "      <th>5</th>\n",
       "      <td>0.524380</td>\n",
       "      <td>1.000000</td>\n",
       "      <td>0.310094</td>\n",
       "      <td>0.220518</td>\n",
       "      <td>NaN</td>\n",
       "      <td>NaN</td>\n",
       "      <td>0.185607</td>\n",
       "      <td>NaN</td>\n",
       "      <td>NaN</td>\n",
       "      <td>0.145550</td>\n",
       "      <td>...</td>\n",
       "      <td>NaN</td>\n",
       "      <td>NaN</td>\n",
       "      <td>NaN</td>\n",
       "      <td>NaN</td>\n",
       "      <td>NaN</td>\n",
       "      <td>NaN</td>\n",
       "      <td>NaN</td>\n",
       "      <td>NaN</td>\n",
       "      <td>NaN</td>\n",
       "      <td>NaN</td>\n",
       "    </tr>\n",
       "    <tr>\n",
       "      <th>6</th>\n",
       "      <td>0.313323</td>\n",
       "      <td>0.310094</td>\n",
       "      <td>1.000000</td>\n",
       "      <td>0.256794</td>\n",
       "      <td>NaN</td>\n",
       "      <td>0.321294</td>\n",
       "      <td>0.190827</td>\n",
       "      <td>NaN</td>\n",
       "      <td>0.201520</td>\n",
       "      <td>0.191706</td>\n",
       "      <td>...</td>\n",
       "      <td>NaN</td>\n",
       "      <td>NaN</td>\n",
       "      <td>NaN</td>\n",
       "      <td>NaN</td>\n",
       "      <td>NaN</td>\n",
       "      <td>NaN</td>\n",
       "      <td>NaN</td>\n",
       "      <td>NaN</td>\n",
       "      <td>NaN</td>\n",
       "      <td>NaN</td>\n",
       "    </tr>\n",
       "    <tr>\n",
       "      <th>7</th>\n",
       "      <td>0.123672</td>\n",
       "      <td>0.220518</td>\n",
       "      <td>0.256794</td>\n",
       "      <td>1.000000</td>\n",
       "      <td>NaN</td>\n",
       "      <td>NaN</td>\n",
       "      <td>NaN</td>\n",
       "      <td>NaN</td>\n",
       "      <td>NaN</td>\n",
       "      <td>NaN</td>\n",
       "      <td>...</td>\n",
       "      <td>NaN</td>\n",
       "      <td>NaN</td>\n",
       "      <td>NaN</td>\n",
       "      <td>NaN</td>\n",
       "      <td>NaN</td>\n",
       "      <td>NaN</td>\n",
       "      <td>NaN</td>\n",
       "      <td>NaN</td>\n",
       "      <td>NaN</td>\n",
       "      <td>NaN</td>\n",
       "    </tr>\n",
       "    <tr>\n",
       "      <th>8</th>\n",
       "      <td>NaN</td>\n",
       "      <td>NaN</td>\n",
       "      <td>NaN</td>\n",
       "      <td>NaN</td>\n",
       "      <td>NaN</td>\n",
       "      <td>NaN</td>\n",
       "      <td>NaN</td>\n",
       "      <td>NaN</td>\n",
       "      <td>NaN</td>\n",
       "      <td>NaN</td>\n",
       "      <td>...</td>\n",
       "      <td>NaN</td>\n",
       "      <td>NaN</td>\n",
       "      <td>NaN</td>\n",
       "      <td>NaN</td>\n",
       "      <td>NaN</td>\n",
       "      <td>NaN</td>\n",
       "      <td>NaN</td>\n",
       "      <td>NaN</td>\n",
       "      <td>NaN</td>\n",
       "      <td>NaN</td>\n",
       "    </tr>\n",
       "  </tbody>\n",
       "</table>\n",
       "<p>5 rows × 4143 columns</p>\n",
       "</div>"
      ],
      "text/plain": [
       "anime_id     1         5         6         7      8         15        16     \\\n",
       "anime_id                                                                      \n",
       "1         1.000000  0.524380  0.313323  0.123672    NaN  0.085844  0.232780   \n",
       "5         0.524380  1.000000  0.310094  0.220518    NaN       NaN  0.185607   \n",
       "6         0.313323  0.310094  1.000000  0.256794    NaN  0.321294  0.190827   \n",
       "7         0.123672  0.220518  0.256794  1.000000    NaN       NaN       NaN   \n",
       "8              NaN       NaN       NaN       NaN    NaN       NaN       NaN   \n",
       "\n",
       "anime_id  17        18        19     ...  33241  33338  33372  33421  33524  \\\n",
       "anime_id                             ...                                      \n",
       "1           NaN  0.145075  0.246525  ...    NaN    NaN    NaN    NaN    NaN   \n",
       "5           NaN       NaN  0.145550  ...    NaN    NaN    NaN    NaN    NaN   \n",
       "6           NaN  0.201520  0.191706  ...    NaN    NaN    NaN    NaN    NaN   \n",
       "7           NaN       NaN       NaN  ...    NaN    NaN    NaN    NaN    NaN   \n",
       "8           NaN       NaN       NaN  ...    NaN    NaN    NaN    NaN    NaN   \n",
       "\n",
       "anime_id  33558  33569  33964  34103  34240  \n",
       "anime_id                                     \n",
       "1           NaN    NaN    NaN    NaN    NaN  \n",
       "5           NaN    NaN    NaN    NaN    NaN  \n",
       "6           NaN    NaN    NaN    NaN    NaN  \n",
       "7           NaN    NaN    NaN    NaN    NaN  \n",
       "8           NaN    NaN    NaN    NaN    NaN  \n",
       "\n",
       "[5 rows x 4143 columns]"
      ]
     },
     "execution_count": 171,
     "metadata": {},
     "output_type": "execute_result"
    }
   ],
   "source": [
    "corrMatrix.head()"
   ]
  },
  {
   "cell_type": "code",
   "execution_count": 172,
   "id": "acb39146",
   "metadata": {},
   "outputs": [
    {
     "name": "stdout",
     "output_type": "stream",
     "text": [
      "(4143, 4143)\n"
     ]
    }
   ],
   "source": [
    "print(corrMatrix.shape)"
   ]
  },
  {
   "cell_type": "code",
   "execution_count": 173,
   "id": "59ac7042",
   "metadata": {},
   "outputs": [
    {
     "data": {
      "text/plain": [
       "anime_id\n",
       "11061    1.000000\n",
       "136      0.405422\n",
       "18115    0.356711\n",
       "14397    0.351741\n",
       "14719    0.343695\n",
       "28891    0.341920\n",
       "137      0.340927\n",
       "31964    0.336394\n",
       "26055    0.334962\n",
       "20899    0.332843\n",
       "Name: 11061, dtype: float64"
      ]
     },
     "execution_count": 173,
     "metadata": {},
     "output_type": "execute_result"
    }
   ],
   "source": [
    "corrMatrix[11061].sort_values(ascending=False).head(10)"
   ]
  },
  {
   "cell_type": "markdown",
   "id": "01f7d2ee",
   "metadata": {},
   "source": [
    "### Creem els usuaris"
   ]
  },
  {
   "cell_type": "code",
   "execution_count": 174,
   "id": "55b8ed27",
   "metadata": {},
   "outputs": [],
   "source": [
    "# Hunter x Hunter (2011) = 11061, School Days = 2476\n",
    "myRatings = pd.Series({11061: 10, 2476: 1})\n"
   ]
  },
  {
   "cell_type": "code",
   "execution_count": 175,
   "id": "7357f12d",
   "metadata": {},
   "outputs": [
    {
     "name": "stdout",
     "output_type": "stream",
     "text": [
      "Añadiendo animes similares a 11061...\n",
      "Añadiendo animes similares a 2476...\n",
      "Ordenando...\n",
      "136      4.201399\n",
      "18115    3.719130\n",
      "14397    3.654750\n",
      "14719    3.548140\n",
      "31964    3.481632\n",
      "28891    3.445460\n",
      "26055    3.441687\n",
      "10800    3.413023\n",
      "137      3.409271\n",
      "15       3.406888\n",
      "dtype: float64\n"
     ]
    }
   ],
   "source": [
    "simCandidates = pd.Series(dtype='float64')\n",
    "\n",
    "for anime_id, rating in myRatings.items():\n",
    "    print(f\"Añadiendo animes similares a {anime_id}...\")\n",
    "\n",
    "# Recuperar los animes similares a los calificadas\n",
    "    sims = corrMatrix[anime_id].dropna()\n",
    "\n",
    "# Escalar la similaridad multiplicando la correlación por la calificación del usuario\n",
    "    sims = sims.map(lambda x: x * rating)\n",
    "\n",
    "# Añadir el puntaje a la lista de candidatos similares\n",
    "    simCandidates = pd.concat([simCandidates, sims])\n",
    "\n",
    "# Mirar los resultados\n",
    "print(\"Ordenando...\")\n",
    "simCandidates = simCandidates.groupby(simCandidates.index).sum()  # Sumar puntuaciones duplicadas\n",
    "simCandidates.sort_values(inplace=True, ascending=False)\n",
    "filteredSims = simCandidates.drop(myRatings.index)\n",
    "print(filteredSims.head(10))"
   ]
  },
  {
   "cell_type": "code",
   "execution_count": 176,
   "id": "0f98c28d",
   "metadata": {},
   "outputs": [
    {
     "data": {
      "text/html": [
       "<div>\n",
       "<style scoped>\n",
       "    .dataframe tbody tr th:only-of-type {\n",
       "        vertical-align: middle;\n",
       "    }\n",
       "\n",
       "    .dataframe tbody tr th {\n",
       "        vertical-align: top;\n",
       "    }\n",
       "\n",
       "    .dataframe thead th {\n",
       "        text-align: right;\n",
       "    }\n",
       "</style>\n",
       "<table border=\"1\" class=\"dataframe\">\n",
       "  <thead>\n",
       "    <tr style=\"text-align: right;\">\n",
       "      <th></th>\n",
       "      <th>anime_id</th>\n",
       "      <th>name</th>\n",
       "      <th>score</th>\n",
       "    </tr>\n",
       "  </thead>\n",
       "  <tbody>\n",
       "    <tr>\n",
       "      <th>0</th>\n",
       "      <td>136</td>\n",
       "      <td>Hunter x Hunter</td>\n",
       "      <td>4.201399</td>\n",
       "    </tr>\n",
       "    <tr>\n",
       "      <th>1</th>\n",
       "      <td>18115</td>\n",
       "      <td>Magi: The Kingdom of Magic</td>\n",
       "      <td>3.719130</td>\n",
       "    </tr>\n",
       "    <tr>\n",
       "      <th>2</th>\n",
       "      <td>14397</td>\n",
       "      <td>Chihayafuru 2</td>\n",
       "      <td>3.654750</td>\n",
       "    </tr>\n",
       "    <tr>\n",
       "      <th>3</th>\n",
       "      <td>14719</td>\n",
       "      <td>JoJo no Kimyou na Bouken (TV)</td>\n",
       "      <td>3.548140</td>\n",
       "    </tr>\n",
       "    <tr>\n",
       "      <th>4</th>\n",
       "      <td>31964</td>\n",
       "      <td>Boku no Hero Academia</td>\n",
       "      <td>3.481632</td>\n",
       "    </tr>\n",
       "    <tr>\n",
       "      <th>5</th>\n",
       "      <td>28891</td>\n",
       "      <td>Haikyuu!! Second Season</td>\n",
       "      <td>3.445460</td>\n",
       "    </tr>\n",
       "    <tr>\n",
       "      <th>6</th>\n",
       "      <td>26055</td>\n",
       "      <td>JoJo no Kimyou na Bouken: Stardust Crusaders 2...</td>\n",
       "      <td>3.441687</td>\n",
       "    </tr>\n",
       "    <tr>\n",
       "      <th>7</th>\n",
       "      <td>10800</td>\n",
       "      <td>Chihayafuru</td>\n",
       "      <td>3.413023</td>\n",
       "    </tr>\n",
       "    <tr>\n",
       "      <th>8</th>\n",
       "      <td>137</td>\n",
       "      <td>Hunter x Hunter OVA</td>\n",
       "      <td>3.409271</td>\n",
       "    </tr>\n",
       "    <tr>\n",
       "      <th>9</th>\n",
       "      <td>15</td>\n",
       "      <td>Eyeshield 21</td>\n",
       "      <td>3.406888</td>\n",
       "    </tr>\n",
       "  </tbody>\n",
       "</table>\n",
       "</div>"
      ],
      "text/plain": [
       "   anime_id                                               name     score\n",
       "0       136                                    Hunter x Hunter  4.201399\n",
       "1     18115                         Magi: The Kingdom of Magic  3.719130\n",
       "2     14397                                      Chihayafuru 2  3.654750\n",
       "3     14719                      JoJo no Kimyou na Bouken (TV)  3.548140\n",
       "4     31964                              Boku no Hero Academia  3.481632\n",
       "5     28891                            Haikyuu!! Second Season  3.445460\n",
       "6     26055  JoJo no Kimyou na Bouken: Stardust Crusaders 2...  3.441687\n",
       "7     10800                                        Chihayafuru  3.413023\n",
       "8       137                                Hunter x Hunter OVA  3.409271\n",
       "9        15                                       Eyeshield 21  3.406888"
      ]
     },
     "execution_count": 176,
     "metadata": {},
     "output_type": "execute_result"
    }
   ],
   "source": [
    "# Convertir la Series en DataFrame para hacer merge\n",
    "simCandidates_df = filteredSims.reset_index()\n",
    "simCandidates_df.columns = ['anime_id', 'score']\n",
    "\n",
    "# Merge con el DataFrame de animes para obtener los nombres\n",
    "simCandidates_df = simCandidates_df.merge(anime, on='anime_id')\n",
    "\n",
    "# Reordenar columnas para legibilidad\n",
    "simCandidates_df = simCandidates_df[['anime_id', 'name', 'score']]\n",
    "\n",
    "# Mostrar las 10 recomendaciones principales con nombres\n",
    "simCandidates_df.head(10)"
   ]
  }
 ],
 "metadata": {
  "kernelspec": {
   "display_name": "Python 3",
   "language": "python",
   "name": "python3"
  },
  "language_info": {
   "codemirror_mode": {
    "name": "ipython",
    "version": 3
   },
   "file_extension": ".py",
   "mimetype": "text/x-python",
   "name": "python",
   "nbconvert_exporter": "python",
   "pygments_lexer": "ipython3",
   "version": "3.11.9"
  }
 },
 "nbformat": 4,
 "nbformat_minor": 5
}
